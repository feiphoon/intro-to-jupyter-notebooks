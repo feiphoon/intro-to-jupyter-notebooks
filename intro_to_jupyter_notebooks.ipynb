{
 "cells": [
  {
   "cell_type": "code",
   "execution_count": null,
   "metadata": {},
   "outputs": [],
   "source": [
    "# Run this first if you're on Google Colaboratory\n",
    "# from google.colab import files\n",
    "# files.upload() # data/banana.py"
   ]
  },
  {
   "cell_type": "code",
   "execution_count": null,
   "metadata": {},
   "outputs": [],
   "source": [
    "# files.upload() # data/train.py"
   ]
  },
  {
   "cell_type": "markdown",
   "metadata": {
    "colab_type": "text",
    "id": "EA3-3p7PTnCo"
   },
   "source": [
    "# Intro to Jupyter notebooks\n",
    "\n",
    "\n",
    "## Markdown and REPL (read–eval–print loop) things ✎"
   ]
  },
  {
   "cell_type": "code",
   "execution_count": null,
   "metadata": {
    "colab": {
     "base_uri": "https://localhost:8080/",
     "height": 34
    },
    "colab_type": "code",
    "id": "yr2KRbX9TBp0",
    "outputId": "d99ffd2c-3c43-4b11-9201-b916d7e03c19",
    "scrolled": true
   },
   "outputs": [],
   "source": [
    "print(\"banana\")"
   ]
  },
  {
   "cell_type": "code",
   "execution_count": null,
   "metadata": {},
   "outputs": [],
   "source": [
    "my_list = [\"a\", \"b\", \"c\", \"d\", \"e\", \"f\"]\n",
    "\n",
    "my_list"
   ]
  },
  {
   "cell_type": "code",
   "execution_count": null,
   "metadata": {},
   "outputs": [],
   "source": [
    "# Get the last item in the list\n",
    "my_list[-1]"
   ]
  },
  {
   "cell_type": "code",
   "execution_count": null,
   "metadata": {},
   "outputs": [],
   "source": [
    "# Slice it!\n",
    "my_list[1:3]"
   ]
  },
  {
   "cell_type": "code",
   "execution_count": null,
   "metadata": {},
   "outputs": [],
   "source": [
    "# Get an end piece!\n",
    "my_list[:3]"
   ]
  },
  {
   "cell_type": "code",
   "execution_count": null,
   "metadata": {},
   "outputs": [],
   "source": [
    "# Get the other end piece!\n",
    "my_list[-3:]"
   ]
  },
  {
   "cell_type": "markdown",
   "metadata": {},
   "source": [
    "## `%magic` tricks ✵彡\n",
    "\n",
    "This gives us some sweet features from Interactive Python. There are two types of magic:\n",
    "\n",
    "- `%` prefix: line magic, which applies to a line\n",
    "- `%%` prefix: cell magic, which applies to multiple lines"
   ]
  },
  {
   "cell_type": "code",
   "execution_count": null,
   "metadata": {},
   "outputs": [],
   "source": [
    "# Get more info on a magic\n",
    "%pwd?"
   ]
  },
  {
   "cell_type": "code",
   "execution_count": null,
   "metadata": {},
   "outputs": [],
   "source": [
    "# Print working directory\n",
    "%pwd"
   ]
  },
  {
   "cell_type": "code",
   "execution_count": null,
   "metadata": {},
   "outputs": [],
   "source": [
    "# We can assign %magic output to variables\n",
    "cwd = %pwd \n",
    "cwd"
   ]
  },
  {
   "cell_type": "code",
   "execution_count": null,
   "metadata": {},
   "outputs": [],
   "source": [
    "dict = {}\n",
    "dict[\"banana\"]"
   ]
  },
  {
   "cell_type": "code",
   "execution_count": null,
   "metadata": {},
   "outputs": [],
   "source": [
    "# Adds an interactive debugger at the bottom of the LAST exception traceback\n",
    "%debug"
   ]
  },
  {
   "cell_type": "code",
   "execution_count": null,
   "metadata": {},
   "outputs": [],
   "source": [
    "# Automatically enter debugger after ANY exception\n",
    "%pdb"
   ]
  },
  {
   "cell_type": "code",
   "execution_count": null,
   "metadata": {},
   "outputs": [],
   "source": [
    "# Returns the execution time of a single statement\n",
    "%time \"banana\".count(\"a\")"
   ]
  },
  {
   "cell_type": "code",
   "execution_count": null,
   "metadata": {},
   "outputs": [],
   "source": [
    "# Returns the average execution time of a single statement, run multiple times\n",
    "%timeit \"banana\".count(\"a\")"
   ]
  },
  {
   "cell_type": "code",
   "execution_count": null,
   "metadata": {},
   "outputs": [],
   "source": [
    "%%time\n",
    "def count_a(string):\n",
    "    return string.count(\"a\")\n",
    "count_a(\"banana\")\n",
    "\n",
    "# A cell magic that returns the execution time of a multi-line statement.\n",
    "# Warning: Cell magics don't like leading blank/comment/code lines."
   ]
  },
  {
   "cell_type": "code",
   "execution_count": null,
   "metadata": {},
   "outputs": [],
   "source": [
    "# Run an external script here\n",
    "%run data/banana.py\n",
    "\n",
    "# If you're in Google Colab, run this instead:\n",
    "# %run banana.py"
   ]
  },
  {
   "cell_type": "code",
   "execution_count": null,
   "metadata": {},
   "outputs": [],
   "source": [
    "# View all %magic commands\n",
    "%magic"
   ]
  },
  {
   "cell_type": "code",
   "execution_count": null,
   "metadata": {},
   "outputs": [],
   "source": [
    "cwd"
   ]
  },
  {
   "cell_type": "code",
   "execution_count": null,
   "metadata": {
    "colab": {},
    "colab_type": "code",
    "id": "fnvAFDqTE9BA"
   },
   "outputs": [],
   "source": [
    "# Reset all variables. Use `%reset -f` to skip confirmation\n",
    "%reset"
   ]
  },
  {
   "cell_type": "code",
   "execution_count": null,
   "metadata": {},
   "outputs": [],
   "source": [
    "cwd"
   ]
  },
  {
   "cell_type": "markdown",
   "metadata": {},
   "source": [
    "More:\n",
    "https://ipython.readthedocs.io/en/stable/interactive/magics.html"
   ]
  },
  {
   "cell_type": "markdown",
   "metadata": {},
   "source": [
    "## Meet `pandas` ʕ •ᴥ•ʔ\n",
    "\n",
    "`pandas` is a Python library for exploration & analysis, for tabular data.\n",
    "\n",
    "We've already made `pandas` available in this environment with `pip install`. To use it in our notebook, we'll need to import it."
   ]
  },
  {
   "cell_type": "code",
   "execution_count": null,
   "metadata": {
    "colab": {},
    "colab_type": "code",
    "id": "gBgZEai2UQuA"
   },
   "outputs": [],
   "source": [
    "import pandas as pd"
   ]
  },
  {
   "cell_type": "markdown",
   "metadata": {},
   "source": [
    "### `pandas` objects: Series ﾟﾟ┌┴oﾟﾟﾟﾟ°\n",
    "\n",
    "A Series is a one-dimensional array-like data structure with indexing."
   ]
  },
  {
   "cell_type": "code",
   "execution_count": null,
   "metadata": {},
   "outputs": [],
   "source": [
    "# The simplest Series.\n",
    "# Note that the index is automatically created, and the value type is inferred.\n",
    "series1 = pd.Series([10, 5, 6, 7, 18, 10, 4, 13])\n",
    "\n",
    "series1"
   ]
  },
  {
   "cell_type": "code",
   "execution_count": null,
   "metadata": {},
   "outputs": [],
   "source": [
    "series1.values"
   ]
  },
  {
   "cell_type": "code",
   "execution_count": null,
   "metadata": {},
   "outputs": [],
   "source": [
    "series1.index"
   ]
  },
  {
   "cell_type": "code",
   "execution_count": null,
   "metadata": {},
   "outputs": [],
   "source": [
    "# Check the shape of the Series\n",
    "series1.shape"
   ]
  },
  {
   "cell_type": "code",
   "execution_count": null,
   "metadata": {},
   "outputs": [],
   "source": [
    "# Produces a summary of the Series.\n",
    "series1.describe()"
   ]
  },
  {
   "cell_type": "code",
   "execution_count": null,
   "metadata": {},
   "outputs": [],
   "source": [
    "# Custom indexing with labels\n",
    "series2 = pd.Series([1, 2, 50], index=['banana', 'bananas', 'much bananas'])\n",
    "\n",
    "series2"
   ]
  },
  {
   "cell_type": "code",
   "execution_count": null,
   "metadata": {},
   "outputs": [],
   "source": [
    "# We can have mixed types in a Series\n",
    "series3 = pd.Series([1, 'potato', 2, 'potato'])\n",
    "\n",
    "series3"
   ]
  },
  {
   "cell_type": "markdown",
   "metadata": {},
   "source": [
    "***Note: When the columns are object types, this makes the data structure slower to process.**"
   ]
  },
  {
   "cell_type": "code",
   "execution_count": null,
   "metadata": {},
   "outputs": [],
   "source": [
    "# We can use array indexes to fetch values\n",
    "series2[2]"
   ]
  },
  {
   "cell_type": "code",
   "execution_count": null,
   "metadata": {},
   "outputs": [],
   "source": [
    "# We can fetch ranges by slicing\n",
    "series2[:2]"
   ]
  },
  {
   "cell_type": "code",
   "execution_count": null,
   "metadata": {},
   "outputs": [],
   "source": [
    "# We can fetch values by integer indexing\n",
    "series2.iloc[1]"
   ]
  },
  {
   "cell_type": "code",
   "execution_count": null,
   "metadata": {},
   "outputs": [],
   "source": [
    "# We can also use the index labels to fetch values\n",
    "series2['much bananas']\n",
    "\n",
    "# We can fetch values by label indexing.\n",
    "# This is the `pandas` way to do the previous command\n",
    "# series2.loc['much bananas']"
   ]
  },
  {
   "cell_type": "code",
   "execution_count": null,
   "metadata": {},
   "outputs": [],
   "source": [
    "# We can fetch values using multiple labels, called in a custom order\n",
    "series2[['much bananas', 'banana', 'bananas']]"
   ]
  },
  {
   "cell_type": "code",
   "execution_count": null,
   "metadata": {},
   "outputs": [],
   "source": [
    "# We can filter with conditions\n",
    "\n",
    "# Flashback: series1 = pd.Series([10, 5, 6, 7, 18, 10, 4, 13])\n",
    "# Note the indexes.\n",
    "series1[series1<8]"
   ]
  },
  {
   "cell_type": "code",
   "execution_count": null,
   "metadata": {},
   "outputs": [],
   "source": [
    "# We can load dictionaries as Series\n",
    "fruit_dict = {'banana': 3, 'apple': 2, 'lemon': 5}\n",
    "\n",
    "fruit_series1 = pd.Series(fruit_dict)\n",
    "\n",
    "fruit_series1"
   ]
  },
  {
   "cell_type": "code",
   "execution_count": null,
   "metadata": {},
   "outputs": [],
   "source": [
    "# And you can pre-specify index labels and get the Series in a desired order\n",
    "fruit_labels = ['apple', 'banana', 'lemon', 'tomato']\n",
    "\n",
    "fruit_series2 = pd.Series(fruit_dict, index=fruit_labels)\n",
    "\n",
    "fruit_series2 # Suddenly we get floats. Why?"
   ]
  },
  {
   "cell_type": "code",
   "execution_count": null,
   "metadata": {},
   "outputs": [],
   "source": [
    "fruit_series2.isnull()"
   ]
  },
  {
   "cell_type": "code",
   "execution_count": null,
   "metadata": {},
   "outputs": [],
   "source": [
    "fruit_series2.notnull()"
   ]
  },
  {
   "cell_type": "code",
   "execution_count": null,
   "metadata": {},
   "outputs": [],
   "source": [
    "# Grab the Index object from one of our Series\n",
    "fruit_series2_index = fruit_series2.index\n",
    "\n",
    "fruit_series2_index"
   ]
  },
  {
   "cell_type": "code",
   "execution_count": null,
   "metadata": {},
   "outputs": [],
   "source": [
    "type(fruit_series2_index)"
   ]
  },
  {
   "cell_type": "code",
   "execution_count": null,
   "metadata": {},
   "outputs": [],
   "source": [
    "fruit_series2_index[1]"
   ]
  },
  {
   "cell_type": "code",
   "execution_count": null,
   "metadata": {},
   "outputs": [],
   "source": [
    "# `pandas` Index object items are immutable\n",
    "fruit_series2_index[1] = 'no banana'"
   ]
  },
  {
   "cell_type": "code",
   "execution_count": null,
   "metadata": {},
   "outputs": [],
   "source": [
    "# `pandas` Index object can contain duplicates\n",
    "orphan_index = pd.Index([1, 'potato', 2, 'potato'])\n",
    "\n",
    "orphan_index"
   ]
  },
  {
   "cell_type": "markdown",
   "metadata": {},
   "source": [
    "### ┏━━━━━━━ʕ•㉨•ʔ━━━━━━━━┓\n",
    "### &nbsp;&nbsp; &nbsp;&nbsp;&nbsp;&nbsp;&nbsp;&nbsp;&nbsp;`pandas` objects: DataFrame\n",
    "### ┗━━━━━━━━☆━━━━━━━━━┛\n",
    "\n",
    "A `pandas` DataFrame is a table of data with row and column indexes. Wes McKinney (`pandas` creator) describes it as a dictionary of Series that shares the same index. The data is stored as one or more two-dimensional blocks."
   ]
  },
  {
   "cell_type": "code",
   "execution_count": null,
   "metadata": {
    "colab": {
     "base_uri": "https://localhost:8080/",
     "height": 215
    },
    "colab_type": "code",
    "id": "65in7bgdZX5R",
    "outputId": "e8143dbb-8869-4a34-df22-c262050513be"
   },
   "outputs": [],
   "source": [
    "# Now we'll load some data\n",
    "file_path = \"./data/train.csv\"\n",
    "\n",
    "# If you're in Google Colab, run this instead:\n",
    "# file_path = \"train.csv\"\n",
    "\n",
    "df = pd.read_csv(file_path) # defaults: `sep=\",\", header=0`"
   ]
  },
  {
   "cell_type": "code",
   "execution_count": null,
   "metadata": {},
   "outputs": [],
   "source": [
    "# Check the data type\n",
    "type(df)"
   ]
  },
  {
   "cell_type": "code",
   "execution_count": null,
   "metadata": {},
   "outputs": [],
   "source": [
    "# Check the shape of the DataFrame\n",
    "df.shape"
   ]
  },
  {
   "cell_type": "code",
   "execution_count": null,
   "metadata": {},
   "outputs": [],
   "source": [
    "df.columns"
   ]
  },
  {
   "cell_type": "code",
   "execution_count": null,
   "metadata": {
    "colab": {},
    "colab_type": "code",
    "id": "vctBcL8KZxwY"
   },
   "outputs": [],
   "source": [
    "# Quick peek at the dataset via Python slicing\n",
    "df[:5]"
   ]
  },
  {
   "cell_type": "code",
   "execution_count": null,
   "metadata": {
    "colab": {},
    "colab_type": "code",
    "id": "8kEFCRv5aFe1"
   },
   "outputs": [],
   "source": [
    "# This is the `pandas` way to do it\n",
    "df.head()\n",
    "# df.head(8)"
   ]
  },
  {
   "cell_type": "code",
   "execution_count": null,
   "metadata": {},
   "outputs": [],
   "source": [
    "df.tail()"
   ]
  },
  {
   "cell_type": "code",
   "execution_count": null,
   "metadata": {},
   "outputs": [],
   "source": [
    "df.sample(3)"
   ]
  },
  {
   "cell_type": "code",
   "execution_count": null,
   "metadata": {},
   "outputs": [],
   "source": [
    "# Produces a summary of the DataFrame.\n",
    "# This ignores columns with non-numerical values.\n",
    "# This has no meaning in this context, we're just experimenting.\n",
    "df.describe()"
   ]
  },
  {
   "cell_type": "code",
   "execution_count": null,
   "metadata": {},
   "outputs": [],
   "source": [
    "# Examine a certain column\n",
    "df['Name'].head(10)"
   ]
  },
  {
   "cell_type": "code",
   "execution_count": null,
   "metadata": {},
   "outputs": [],
   "source": [
    "df.rename(columns={\"PassengerId\": \"passenger_id\"}) # Note if this changed the column name in the DataFrame."
   ]
  },
  {
   "cell_type": "code",
   "execution_count": null,
   "metadata": {},
   "outputs": [],
   "source": [
    "# Different ways of selecting the first row\n",
    "\n",
    "df.head(1)\n",
    "# df[:1]\n",
    "# df.iloc[0]\n",
    "# df.iloc[0, :]\n",
    "# df.loc[0]\n",
    "# df.loc[[0], df.columns]"
   ]
  },
  {
   "cell_type": "code",
   "execution_count": null,
   "metadata": {
    "scrolled": true
   },
   "outputs": [],
   "source": [
    "# Different ways of selecting a particular column (Name)\n",
    "\n",
    "df['Name']\n",
    "# df.loc[:, 'Name']\n",
    "# df.iloc[:, 3]"
   ]
  },
  {
   "cell_type": "markdown",
   "metadata": {},
   "source": [
    "![Accessing things in pandas](images/pandas_access.png)"
   ]
  },
  {
   "cell_type": "markdown",
   "metadata": {},
   "source": [
    "### Exercise ᕦ(ò_óˇ)ᕤ\n",
    "\n",
    "Use your newfound knowledge of `iloc` and `loc` to select the first 5 rows from the first 4 columns."
   ]
  },
  {
   "cell_type": "code",
   "execution_count": null,
   "metadata": {
    "slideshow": {
     "slide_type": "slide"
    }
   },
   "outputs": [],
   "source": [
    "# Different ways of selecting (5 rows from) the first 4 columns\n",
    "\n",
    "# Using head()\n",
    "\n",
    "# Using iloc[]\n",
    "\n",
    "# Using loc[]"
   ]
  },
  {
   "cell_type": "markdown",
   "metadata": {
    "colab": {},
    "colab_type": "code",
    "id": "6chigzr4q-vN"
   },
   "source": [
    "## I can haz codez pls ( ᐕ)\n",
    "\n",
    "To generate a `.py` out of this notebook:\n",
    "\n",
    "`File > Download as > Python (.py)`\n",
    "\n",
    "Github is nice and renders `.ipynb` files without needing to run Jupyter - great for quick sharing. E.g. https://github.com/ibm-et/jupyter-samples/blob/master/airline/Exploration%20of%20Airline%20On-Time%20Performance.ipynb\n",
    "\n",
    "Bitbucket doesn't do this, so for the same effect, you can generate and commit a Markdown version of your notebook to your repo:\n",
    "\n",
    "`File > Download as > Markdown (.md)`"
   ]
  },
  {
   "cell_type": "markdown",
   "metadata": {},
   "source": [
    "## Questions? ʕ•ᴥ•ʔʃ"
   ]
  },
  {
   "cell_type": "markdown",
   "metadata": {},
   "source": [
    "## What's next?  υ´• ﻌ •`υ\n",
    "\n",
    "Extra credit: Try the Titanic tutorial on Kaggle: https://www.kaggle.com/c/titanic/overview/tutorials"
   ]
  }
 ],
 "metadata": {
  "colab": {
   "collapsed_sections": [],
   "name": "Intro to Jupyter notebooks.ipynb",
   "provenance": [],
   "version": "0.3.2"
  },
  "kernelspec": {
   "display_name": "Python 3",
   "language": "python",
   "name": "python3"
  },
  "language_info": {
   "codemirror_mode": {
    "name": "ipython",
    "version": 3
   },
   "file_extension": ".py",
   "mimetype": "text/x-python",
   "name": "python",
   "nbconvert_exporter": "python",
   "pygments_lexer": "ipython3",
   "version": "3.7.2"
  },
  "toc": {
   "base_numbering": 1,
   "nav_menu": {},
   "number_sections": true,
   "sideBar": true,
   "skip_h1_title": false,
   "title_cell": "Table of Contents",
   "title_sidebar": "Contents",
   "toc_cell": false,
   "toc_position": {},
   "toc_section_display": true,
   "toc_window_display": false
  }
 },
 "nbformat": 4,
 "nbformat_minor": 1
}
